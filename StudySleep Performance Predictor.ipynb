{
 "cells": [
  {
   "cell_type": "code",
   "execution_count": 34,
   "id": "a9a5f485",
   "metadata": {},
   "outputs": [],
   "source": [
    "import numpy as np\n",
    "import pandas as pd"
   ]
  },
  {
   "cell_type": "code",
   "execution_count": 35,
   "id": "f06a026e",
   "metadata": {},
   "outputs": [
    {
     "data": {
      "text/html": [
       "<div>\n",
       "<style scoped>\n",
       "    .dataframe tbody tr th:only-of-type {\n",
       "        vertical-align: middle;\n",
       "    }\n",
       "\n",
       "    .dataframe tbody tr th {\n",
       "        vertical-align: top;\n",
       "    }\n",
       "\n",
       "    .dataframe thead th {\n",
       "        text-align: right;\n",
       "    }\n",
       "</style>\n",
       "<table border=\"1\" class=\"dataframe\">\n",
       "  <thead>\n",
       "    <tr style=\"text-align: right;\">\n",
       "      <th></th>\n",
       "      <th>x0</th>\n",
       "      <th>x1</th>\n",
       "      <th>y</th>\n",
       "    </tr>\n",
       "  </thead>\n",
       "  <tbody>\n",
       "    <tr>\n",
       "      <th>0</th>\n",
       "      <td>7</td>\n",
       "      <td>9</td>\n",
       "      <td>91.0</td>\n",
       "    </tr>\n",
       "    <tr>\n",
       "      <th>1</th>\n",
       "      <td>4</td>\n",
       "      <td>4</td>\n",
       "      <td>65.0</td>\n",
       "    </tr>\n",
       "    <tr>\n",
       "      <th>2</th>\n",
       "      <td>8</td>\n",
       "      <td>7</td>\n",
       "      <td>45.0</td>\n",
       "    </tr>\n",
       "    <tr>\n",
       "      <th>3</th>\n",
       "      <td>5</td>\n",
       "      <td>5</td>\n",
       "      <td>36.0</td>\n",
       "    </tr>\n",
       "    <tr>\n",
       "      <th>4</th>\n",
       "      <td>7</td>\n",
       "      <td>8</td>\n",
       "      <td>66.0</td>\n",
       "    </tr>\n",
       "    <tr>\n",
       "      <th>...</th>\n",
       "      <td>...</td>\n",
       "      <td>...</td>\n",
       "      <td>...</td>\n",
       "    </tr>\n",
       "    <tr>\n",
       "      <th>9995</th>\n",
       "      <td>1</td>\n",
       "      <td>4</td>\n",
       "      <td>23.0</td>\n",
       "    </tr>\n",
       "    <tr>\n",
       "      <th>9996</th>\n",
       "      <td>7</td>\n",
       "      <td>8</td>\n",
       "      <td>58.0</td>\n",
       "    </tr>\n",
       "    <tr>\n",
       "      <th>9997</th>\n",
       "      <td>6</td>\n",
       "      <td>8</td>\n",
       "      <td>74.0</td>\n",
       "    </tr>\n",
       "    <tr>\n",
       "      <th>9998</th>\n",
       "      <td>9</td>\n",
       "      <td>7</td>\n",
       "      <td>95.0</td>\n",
       "    </tr>\n",
       "    <tr>\n",
       "      <th>9999</th>\n",
       "      <td>7</td>\n",
       "      <td>8</td>\n",
       "      <td>64.0</td>\n",
       "    </tr>\n",
       "  </tbody>\n",
       "</table>\n",
       "<p>10000 rows × 3 columns</p>\n",
       "</div>"
      ],
      "text/plain": [
       "      x0  x1     y\n",
       "0      7   9  91.0\n",
       "1      4   4  65.0\n",
       "2      8   7  45.0\n",
       "3      5   5  36.0\n",
       "4      7   8  66.0\n",
       "...   ..  ..   ...\n",
       "9995   1   4  23.0\n",
       "9996   7   8  58.0\n",
       "9997   6   8  74.0\n",
       "9998   9   7  95.0\n",
       "9999   7   8  64.0\n",
       "\n",
       "[10000 rows x 3 columns]"
      ]
     },
     "execution_count": 35,
     "metadata": {},
     "output_type": "execute_result"
    }
   ],
   "source": [
    "df = pd.read_csv('studPer.csv')\n",
    "df"
   ]
  },
  {
   "cell_type": "code",
   "execution_count": 36,
   "id": "63f0647b",
   "metadata": {},
   "outputs": [],
   "source": [
    "import numpy as np\n",
    "import matplotlib.pyplot as plt\n",
    "import seaborn as sns"
   ]
  },
  {
   "cell_type": "code",
   "execution_count": 54,
   "id": "30bcfc4b",
   "metadata": {},
   "outputs": [],
   "source": [
    "# @title\n",
    "# Hidden\n",
    "###\n",
    "\n",
    "# Helper function to annotate a single point\n",
    "def annotate_pt(text, xy, xytext, color):\n",
    "  plt.plot(xy[0],xy[1],marker='P',markersize=10,c=color)\n",
    "  plt.annotate(text,xy=xy,xytext=xytext,\n",
    "                # color=color,\n",
    "                arrowprops=dict(arrowstyle=\"->\",\n",
    "                color = color,\n",
    "                connectionstyle='arc3'))\n",
    "\n",
    "\n",
    "# Plot the function\n",
    "# Pts are 2D points and f_val is the corresponding function value\n",
    "def function_plot(pts, f_val, vmin=None, vmax=None):\n",
    "  if vmin == None:\n",
    "    vmin = min(f_val)\n",
    "  if vmax == None:\n",
    "    vmax = max(f_val)\n",
    "\n",
    "  f_plot = plt.scatter(pts[:,0],pts[:,1],\n",
    "                        c=f_val,vmin=vmin,vmax=vmax,\n",
    "                        cmap='RdBu_r')\n",
    "  plt.colorbar(f_plot)\n",
    "  # Show the optimal point\n",
    "  #annotate_pt('global minimum',(0,0),(-5,-7),'yellow')\n",
    "\n",
    "\n",
    "# Generates 2500 equally spaced points on a grid, and\n",
    "# Computes the function value at each point\n",
    "def visualize_fw(f, x_ran, y_ran):\n",
    "  xcoord = np.linspace(x_ran[0], x_ran[1], 50)\n",
    "  ycoord = np.linspace(y_ran[0], y_ran[1], 50)\n",
    "  w1, w2 = np.meshgrid(xcoord, ycoord)\n",
    "  pts = np.vstack( (w1.flatten(), w2.flatten()) )\n",
    "\n",
    "  # All 2D points on the grid\n",
    "  pts = pts.transpose()\n",
    "\n",
    "  # Function value at each point\n",
    "  f_vals = np.apply_along_axis( f, axis=1, arr=pts )\n",
    "\n",
    "  # function is x^2\n",
    "  #f_vals = np.sum(pts*pts, axis=1)\n",
    "  #return f_vals\n",
    "  function_plot(pts, f_vals)\n",
    "  #plt.title('Objective Function Shown in Color')\n",
    "  plt.show()\n",
    "  return pts, f_vals\n",
    "\n",
    "\n",
    "# Function to plot the objective function\n",
    "# and learning history annotated by arrows\n",
    "# to show how learning proceeded\n",
    "def visualize_learning(pts, f_vals, w_history):\n",
    "\n",
    "  # Make the function plot\n",
    "  function_plot(pts, f_vals)\n",
    "\n",
    "  # Plot the history\n",
    "  plt.plot(w_history[:,0],w_history[:,1],marker='o',c='magenta')\n",
    "\n",
    "  # Annotate the point found at last iteration\n",
    "  annotate_pt('Last Position',\n",
    "              (w_history[-1,0],w_history[-1,1]),\n",
    "              (-1,7),'green')\n",
    "  iter = w_history.shape[0]\n",
    "  for w,i in zip(w_history,range(iter-1)):\n",
    "    # Annotate with arrows to show history\n",
    "    plt.annotate(\"\",\n",
    "                xy=w, xycoords='data',\n",
    "                xytext=w_history[i+1,:], textcoords='data',\n",
    "                arrowprops=dict(arrowstyle='<-',\n",
    "                        connectionstyle='angle3'))"
   ]
  },
  {
   "cell_type": "code",
   "execution_count": 48,
   "id": "c80be7cd",
   "metadata": {},
   "outputs": [],
   "source": [
    "# input\n",
    "## x_0. integer\n",
    "## x_1. integer\n",
    "def predict_performance(x0, x1):\n",
    "    return (6*x0) + (80*x1) + 55"
   ]
  },
  {
   "cell_type": "code",
   "execution_count": 49,
   "id": "73ebddae",
   "metadata": {},
   "outputs": [
    {
     "data": {
      "text/plain": [
       "229.0"
      ]
     },
     "execution_count": 49,
     "metadata": {},
     "output_type": "execute_result"
    }
   ],
   "source": [
    "#example\n",
    "predict_performance(25, 0.3)"
   ]
  },
  {
   "cell_type": "code",
   "execution_count": 50,
   "id": "3f7f71e2",
   "metadata": {},
   "outputs": [],
   "source": [
    "# input\n",
    "## x. array, x[0] is x_0 and x[1] is x_1\n",
    "def predict_performance(x,y):\n",
    "    return (6*x) + (70*y) + 30\n",
    "  # alternative with numpy"
   ]
  },
  {
   "cell_type": "code",
   "execution_count": 43,
   "id": "a91cf211",
   "metadata": {},
   "outputs": [],
   "source": [
    "import matplotlib.pyplot as plt\n",
    "import numpy as np"
   ]
  },
  {
   "cell_type": "code",
   "execution_count": 53,
   "id": "bb98633d",
   "metadata": {},
   "outputs": [
    {
     "ename": "TypeError",
     "evalue": "predict_performance() missing 1 required positional argument: 'y'",
     "output_type": "error",
     "traceback": [
      "\u001b[0;31m---------------------------------------------------------------------------\u001b[0m",
      "\u001b[0;31mTypeError\u001b[0m                                 Traceback (most recent call last)",
      "\u001b[0;32m<ipython-input-53-02f86f9c6000>\u001b[0m in \u001b[0;36m<module>\u001b[0;34m\u001b[0m\n\u001b[1;32m      1\u001b[0m \u001b[0;31m# order hour on 9:00 AM ~ 21:00 PM, and inflation rate on 0 ~ 1\u001b[0m\u001b[0;34m\u001b[0m\u001b[0;34m\u001b[0m\u001b[0;34m\u001b[0m\u001b[0m\n\u001b[0;32m----> 2\u001b[0;31m \u001b[0mpts\u001b[0m\u001b[0;34m,\u001b[0m \u001b[0mf_vals\u001b[0m \u001b[0;34m=\u001b[0m \u001b[0mvisualize_fw\u001b[0m\u001b[0;34m(\u001b[0m\u001b[0mpredict_performance\u001b[0m\u001b[0;34m,\u001b[0m \u001b[0;34m[\u001b[0m\u001b[0;36m9\u001b[0m\u001b[0;34m,\u001b[0m \u001b[0;36m21\u001b[0m\u001b[0;34m]\u001b[0m\u001b[0;34m,\u001b[0m \u001b[0;34m[\u001b[0m\u001b[0;36m0\u001b[0m\u001b[0;34m,\u001b[0m \u001b[0;36m1\u001b[0m\u001b[0;34m]\u001b[0m\u001b[0;34m)\u001b[0m\u001b[0;34m\u001b[0m\u001b[0;34m\u001b[0m\u001b[0m\n\u001b[0m\u001b[1;32m      3\u001b[0m \u001b[0;31m# pts are the points\u001b[0m\u001b[0;34m\u001b[0m\u001b[0;34m\u001b[0m\u001b[0;34m\u001b[0m\u001b[0m\n\u001b[1;32m      4\u001b[0m \u001b[0;31m# f_vals are function values on the points\u001b[0m\u001b[0;34m\u001b[0m\u001b[0;34m\u001b[0m\u001b[0;34m\u001b[0m\u001b[0m\n",
      "\u001b[0;32m<ipython-input-52-c71eb75c42bb>\u001b[0m in \u001b[0;36mvisualize_fw\u001b[0;34m(f, x_ran, y_ran)\u001b[0m\n\u001b[1;32m     41\u001b[0m \u001b[0;34m\u001b[0m\u001b[0m\n\u001b[1;32m     42\u001b[0m   \u001b[0;31m# Function value at each point\u001b[0m\u001b[0;34m\u001b[0m\u001b[0;34m\u001b[0m\u001b[0;34m\u001b[0m\u001b[0m\n\u001b[0;32m---> 43\u001b[0;31m   \u001b[0mf_vals\u001b[0m \u001b[0;34m=\u001b[0m \u001b[0mnp\u001b[0m\u001b[0;34m.\u001b[0m\u001b[0mapply_along_axis\u001b[0m\u001b[0;34m(\u001b[0m \u001b[0mf\u001b[0m\u001b[0;34m,\u001b[0m \u001b[0maxis\u001b[0m\u001b[0;34m=\u001b[0m\u001b[0;36m1\u001b[0m\u001b[0;34m,\u001b[0m \u001b[0marr\u001b[0m\u001b[0;34m=\u001b[0m\u001b[0mpts\u001b[0m \u001b[0;34m)\u001b[0m\u001b[0;34m\u001b[0m\u001b[0;34m\u001b[0m\u001b[0m\n\u001b[0m\u001b[1;32m     44\u001b[0m \u001b[0;34m\u001b[0m\u001b[0m\n\u001b[1;32m     45\u001b[0m   \u001b[0;31m# function is x^2\u001b[0m\u001b[0;34m\u001b[0m\u001b[0;34m\u001b[0m\u001b[0;34m\u001b[0m\u001b[0m\n",
      "\u001b[0;32m~/opt/anaconda3/lib/python3.8/site-packages/numpy/core/overrides.py\u001b[0m in \u001b[0;36mapply_along_axis\u001b[0;34m(*args, **kwargs)\u001b[0m\n",
      "\u001b[0;32m~/opt/anaconda3/lib/python3.8/site-packages/numpy/lib/shape_base.py\u001b[0m in \u001b[0;36mapply_along_axis\u001b[0;34m(func1d, axis, arr, *args, **kwargs)\u001b[0m\n\u001b[1;32m    377\u001b[0m             \u001b[0;34m'Cannot apply_along_axis when any iteration dimensions are 0'\u001b[0m\u001b[0;34m\u001b[0m\u001b[0;34m\u001b[0m\u001b[0m\n\u001b[1;32m    378\u001b[0m         ) from None\n\u001b[0;32m--> 379\u001b[0;31m     \u001b[0mres\u001b[0m \u001b[0;34m=\u001b[0m \u001b[0masanyarray\u001b[0m\u001b[0;34m(\u001b[0m\u001b[0mfunc1d\u001b[0m\u001b[0;34m(\u001b[0m\u001b[0minarr_view\u001b[0m\u001b[0;34m[\u001b[0m\u001b[0mind0\u001b[0m\u001b[0;34m]\u001b[0m\u001b[0;34m,\u001b[0m \u001b[0;34m*\u001b[0m\u001b[0margs\u001b[0m\u001b[0;34m,\u001b[0m \u001b[0;34m**\u001b[0m\u001b[0mkwargs\u001b[0m\u001b[0;34m)\u001b[0m\u001b[0;34m)\u001b[0m\u001b[0;34m\u001b[0m\u001b[0;34m\u001b[0m\u001b[0m\n\u001b[0m\u001b[1;32m    380\u001b[0m \u001b[0;34m\u001b[0m\u001b[0m\n\u001b[1;32m    381\u001b[0m     \u001b[0;31m# build a buffer for storing evaluations of func1d.\u001b[0m\u001b[0;34m\u001b[0m\u001b[0;34m\u001b[0m\u001b[0;34m\u001b[0m\u001b[0m\n",
      "\u001b[0;31mTypeError\u001b[0m: predict_performance() missing 1 required positional argument: 'y'"
     ]
    }
   ],
   "source": [
    "# order hour on 9:00 AM ~ 21:00 PM, and inflation rate on 0 ~ 1\n",
    "pts, f_vals = visualize_fw(predict_performance, [9, 21], [0, 1])\n",
    "# pts are the points\n",
    "# f_vals are function values on the points"
   ]
  },
  {
   "cell_type": "code",
   "execution_count": 22,
   "id": "ce9c68f9",
   "metadata": {},
   "outputs": [],
   "source": [
    "# X0 is studied hours\n",
    "# X1 is sleeping hours\n",
    "\n",
    "x0 = df.iloc[:, 0].values\n",
    "x1=df.iloc[:,1].values\n",
    "y=X = df.iloc[:, 2].values"
   ]
  },
  {
   "cell_type": "code",
   "execution_count": 23,
   "id": "10a1a5cd",
   "metadata": {},
   "outputs": [],
   "source": [
    "def add(x0,x1):\n",
    "    return x0+x1;"
   ]
  },
  {
   "cell_type": "code",
   "execution_count": 24,
   "id": "96a74f3c",
   "metadata": {},
   "outputs": [
    {
     "data": {
      "text/plain": [
       "array([16,  8, 15, ..., 14, 16, 15])"
      ]
     },
     "execution_count": 24,
     "metadata": {},
     "output_type": "execute_result"
    }
   ],
   "source": [
    "x=add(x0,x1)\n",
    "x"
   ]
  },
  {
   "cell_type": "code",
   "execution_count": 25,
   "id": "e20f3a18",
   "metadata": {},
   "outputs": [],
   "source": [
    "\n",
    "def predict_performance(x):\n",
    "    return 8*x+50"
   ]
  },
  {
   "cell_type": "code",
   "execution_count": 26,
   "id": "2c0c784e",
   "metadata": {},
   "outputs": [],
   "source": [
    "y_predicted=predict_performance(x)"
   ]
  },
  {
   "cell_type": "code",
   "execution_count": 27,
   "id": "41824afa",
   "metadata": {},
   "outputs": [
    {
     "data": {
      "text/plain": [
       "array([178, 114, 170, ..., 162, 178, 170])"
      ]
     },
     "execution_count": 27,
     "metadata": {},
     "output_type": "execute_result"
    }
   ],
   "source": [
    "y_predicted"
   ]
  },
  {
   "cell_type": "code",
   "execution_count": 28,
   "id": "7c54b49b",
   "metadata": {},
   "outputs": [
    {
     "data": {
      "image/png": "[encoded data removed]",
      "text/plain": [
       "<Figure size 432x288 with 2 Axes>"
      ]
     },
     "metadata": {
      "needs_background": "light"
     },
     "output_type": "display_data"
    }
   ],
   "source": [
    "import numpy as np\n",
    "import matplotlib.pyplot as plt\n",
    "\n",
    "\n",
    "# Plot the function\n",
    "def function_plot(pts, f_val, vmin=None, vmax=None):\n",
    "    if vmin is None:\n",
    "        vmin = min(f_val)\n",
    "    if vmax is None:\n",
    "        vmax = max(f_val)\n",
    "\n",
    "    f_plot = plt.scatter(pts[:,0], pts[:,1],\n",
    "                         c=f_val, vmin=vmin, vmax=vmax,\n",
    "                         cmap='RdBu_r')\n",
    "    plt.colorbar(f_plot)\n",
    "\n",
    "# Generate points and evaluate the function\n",
    "def visualize_yield(x):\n",
    "    # Model watermelon yield based on irrigation levels\n",
    "   # yield_values = -0.5 * (irrigation_levels - 5)**2 + 10\n",
    "    y_predicted=predict_performance(x)\n",
    "    # Reshape for plotting\n",
    "    pts = np.column_stack((x, y_predicted))\n",
    "    \n",
    "    # Plot the function\n",
    "    function_plot(pts, y_predicted)\n",
    "    plt.xlabel('Student Record')\n",
    "    plt.ylabel('Student Performance')\n",
    "    plt.title('Student Records  vs. performance')\n",
    "    plt.show()\n",
    "\n",
    "x=add(x0,x1)\n",
    "visualize_yield(x)\n",
    "\n"
   ]
  },
  {
   "cell_type": "code",
   "execution_count": null,
   "id": "581ef876",
   "metadata": {},
   "outputs": [],
   "source": []
  }
 ],
 "metadata": {
  "kernelspec": {
   "display_name": "Python 3 (ipykernel)",
   "language": "python",
   "name": "python3"
  },
  "language_info": {
   "codemirror_mode": {
    "name": "ipython",
    "version": 3
   },
   "file_extension": ".py",
   "mimetype": "text/x-python",
   "name": "python",
   "nbconvert_exporter": "python",
   "pygments_lexer": "ipython3",
   "version": "3.11.5"
  }
 },
 "nbformat": 4,
 "nbformat_minor": 5
}
